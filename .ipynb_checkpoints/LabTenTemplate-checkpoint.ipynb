{
 "cells": [
  {
   "cell_type": "markdown",
   "id": "47c2032a",
   "metadata": {},
   "source": [
    "# MANE 3351\n",
    "## Lab Ten\n",
    "### My Name\n",
    "### My Student ID Number"
   ]
  },
  {
   "cell_type": "code",
   "execution_count": null,
   "id": "c4f71aa2",
   "metadata": {},
   "outputs": [],
   "source": [
    "import numpy as np\n",
    "from scipy import linalg\n",
    "\n",
    "beta= #finish coding this line\n",
    "print(beta)"
   ]
  }
 ],
 "metadata": {
  "kernelspec": {
   "display_name": "Python 3 (ipykernel)",
   "language": "python",
   "name": "python3"
  },
  "language_info": {
   "codemirror_mode": {
    "name": "ipython",
    "version": 3
   },
   "file_extension": ".py",
   "mimetype": "text/x-python",
   "name": "python",
   "nbconvert_exporter": "python",
   "pygments_lexer": "ipython3",
   "version": "3.9.12"
  }
 },
 "nbformat": 4,
 "nbformat_minor": 5
}
